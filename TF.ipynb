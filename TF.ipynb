{
 "metadata": {
  "language_info": {
   "codemirror_mode": {
    "name": "ipython",
    "version": 3
   },
   "file_extension": ".py",
   "mimetype": "text/x-python",
   "name": "python",
   "nbconvert_exporter": "python",
   "pygments_lexer": "ipython3",
   "version": "3.7.3"
  },
  "orig_nbformat": 2,
  "kernelspec": {
   "name": "python373jvsc74a57bd09164a3399a70d355c381b62813f30880ed90ca5a6f321bf0d85375640bda7ee5",
   "display_name": "Python 3.7.3 64-bit"
  },
  "metadata": {
   "interpreter": {
    "hash": "9164a3399a70d355c381b62813f30880ed90ca5a6f321bf0d85375640bda7ee5"
   }
  }
 },
 "nbformat": 4,
 "nbformat_minor": 2,
 "cells": [
  {
   "cell_type": "code",
   "execution_count": 2,
   "metadata": {},
   "outputs": [],
   "source": [
    "import tensorflow as tf\n",
    "import numpy as np\n",
    "import os \n",
    "import cv2\n",
    "import random\n",
    "from tqdm import tqdm\n",
    "from tensorflow.keras.layers import LSTM, Bidirectional, Conv2D, Dense, Flatten, MaxPooling2D, TimeDistributed, MaxPoolingD, Reshape\n",
    "from tensorflow.keras.models import Sequential"
   ]
  },
  {
   "cell_type": "code",
   "execution_count": 29,
   "metadata": {},
   "outputs": [],
   "source": [
    "def load_data(folder):\n",
    "\n",
    "    data = []\n",
    "    for directory in os.listdir(folder):\n",
    "        if directory == 'fight':\n",
    "            label = np.array([1, 0])\n",
    "        elif directory == 'nofight':\n",
    "            label = np.array([0, 1])\n",
    "        for files in tqdm(os.listdir(os.path.join(folder, directory))):\n",
    "            path = os.path.join(os.path.join(folder, directory), files)\n",
    "            img = cv2.resize(cv2.imread(path), (50, 50))\n",
    "            data.append(np.array([img, label]))\n",
    "\n",
    "    return data"
   ]
  },
  {
   "cell_type": "code",
   "execution_count": 30,
   "metadata": {},
   "outputs": [
    {
     "output_type": "stream",
     "name": "stderr",
     "text": [
      "  0%|          | 0/4195 [00:00<?, ?it/s]ipykernel_launcher:12: VisibleDeprecationWarning: Creating an ndarray from ragged nested sequences (which is a list-or-tuple of lists-or-tuples-or ndarrays with different lengths or shapes) is deprecated. If you meant to do this, you must specify 'dtype=object' when creating the ndarray\n",
      "100%|██████████| 4195/4195 [00:19<00:00, 218.57it/s]\n",
      "100%|██████████| 4410/4410 [00:17<00:00, 250.48it/s]\n"
     ]
    }
   ],
   "source": [
    "train_data = load_data('./Peliculas/Data/train')"
   ]
  },
  {
   "cell_type": "code",
   "execution_count": 31,
   "metadata": {},
   "outputs": [
    {
     "output_type": "stream",
     "name": "stderr",
     "text": [
      "  0%|          | 0/496 [00:00<?, ?it/s]ipykernel_launcher:12: VisibleDeprecationWarning: Creating an ndarray from ragged nested sequences (which is a list-or-tuple of lists-or-tuples-or ndarrays with different lengths or shapes) is deprecated. If you meant to do this, you must specify 'dtype=object' when creating the ndarray\n",
      "100%|██████████| 496/496 [00:02<00:00, 242.47it/s]\n",
      "100%|██████████| 539/539 [00:01<00:00, 309.39it/s]\n"
     ]
    }
   ],
   "source": [
    "test_data = load_data('./Peliculas/Data/valid')"
   ]
  },
  {
   "cell_type": "code",
   "execution_count": 79,
   "metadata": {},
   "outputs": [
    {
     "output_type": "stream",
     "name": "stdout",
     "text": [
      "Model: \"sequential_34\"\n_________________________________________________________________\nLayer (type)                 Output Shape              Param #   \n=================================================================\nconv2d_70 (Conv2D)           (None, 50, 50, 64)        1792      \n_________________________________________________________________\nconv2d_71 (Conv2D)           (None, 48, 48, 64)        36928     \n_________________________________________________________________\nmax_pooling2d_48 (MaxPooling (None, 24, 24, 64)        0         \n_________________________________________________________________\nconv2d_72 (Conv2D)           (None, 22, 22, 64)        36928     \n_________________________________________________________________\nmax_pooling2d_49 (MaxPooling (None, 11, 11, 64)        0         \n_________________________________________________________________\nconv2d_73 (Conv2D)           (None, 9, 9, 64)          36928     \n_________________________________________________________________\nmax_pooling2d_50 (MaxPooling (None, 4, 4, 64)          0         \n_________________________________________________________________\nflatten_16 (Flatten)         (None, 1024)              0         \n_________________________________________________________________\nreshape_16 (Reshape)         (None, 1, 1024)           0         \n_________________________________________________________________\ndense_33 (Dense)             (None, 1, 64)             65600     \n_________________________________________________________________\ndense_34 (Dense)             (None, 1, 32)             2080      \n_________________________________________________________________\ndense_35 (Dense)             (None, 1, 2)              66        \n=================================================================\nTotal params: 180,322\nTrainable params: 180,322\nNon-trainable params: 0\n_________________________________________________________________\n"
     ]
    }
   ],
   "source": [
    "cnn = Sequential()\n",
    "cnn.add(Conv2D(64, (3, 3), activation='relu', input_shape=(50, 50, 3), padding=\"same\"))\n",
    "cnn.add(Conv2D(64, (3, 3), activation='relu'))\n",
    "cnn.add(MaxPooling2D((2,2)))\n",
    "cnn.add(Conv2D(64, (3, 3), activation='relu'))\n",
    "cnn.add(MaxPooling2D((2,2)))\n",
    "cnn.add(Conv2D(64, (3, 3), activation='relu'))\n",
    "cnn.add(MaxPooling2D((2,2)))\n",
    "cnn.add(Flatten())\n",
    "cnn.add(Reshape((-1,  1024)))\n",
    "\n",
    "\n",
    "\n",
    "lstm_fw = LSTM(units=32)\n",
    "lstm_bw = LSTM(units=32, go_backwards = True)\n",
    "model = Sequential()\n",
    "model.add(TimeDistributed(cnn))\n",
    "model.add(Bidirectional(lstm_fw, backward_layer = lstm_bw, input_shape=(None, 1, 1024)))\n",
    "cnn.add(Dense(64, activation='relu'))\n",
    "cnn.add(Dense(32, activation='relu'))\n",
    "cnn.add(Dense(2, activation='sigmoid'))\n",
    "\n",
    "cnn.compile(loss='categorical_crossentropy',optimizer='SGD',metrics=['accuracy'])\n",
    "\n",
    "cnn.summary()\n"
   ]
  },
  {
   "cell_type": "code",
   "execution_count": 80,
   "metadata": {},
   "outputs": [],
   "source": [
    "random.shuffle(train_data)\n",
    "random.shuffle(test_data)"
   ]
  },
  {
   "cell_type": "code",
   "execution_count": 71,
   "metadata": {},
   "outputs": [],
   "source": [
    "X = np.array([i[0] for i in train_data]).reshape(-1, 50, 50, 3)\n",
    "Y = np.array([i[1] for i in train_data]).reshape(-1, 1, 2)\n",
    "\n",
    "x_valid = np.array([i[0] for i in test_data]).reshape(-1, 50, 50, 3)\n",
    "y_valid = np.array([i[1] for i in test_data]).reshape(-1, 1, 2)"
   ]
  },
  {
   "cell_type": "code",
   "execution_count": 72,
   "metadata": {},
   "outputs": [],
   "source": [
    "X = X / 255.\n",
    "x_valid = x_valid / 255."
   ]
  },
  {
   "cell_type": "code",
   "execution_count": 73,
   "metadata": {},
   "outputs": [
    {
     "output_type": "execute_result",
     "data": {
      "text/plain": [
       "(8605, 1, 2)"
      ]
     },
     "metadata": {},
     "execution_count": 73
    }
   ],
   "source": [
    "Y.shape"
   ]
  }
 ]
}
